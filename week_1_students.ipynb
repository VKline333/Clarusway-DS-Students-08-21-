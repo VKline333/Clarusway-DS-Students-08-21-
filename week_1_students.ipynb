{
  "nbformat": 4,
  "nbformat_minor": 5,
  "metadata": {
    "kernelspec": {
      "display_name": "Python 3",
      "language": "python",
      "name": "python3"
    },
    "language_info": {
      "codemirror_mode": {
        "name": "ipython",
        "version": 3
      },
      "file_extension": ".py",
      "mimetype": "text/x-python",
      "name": "python",
      "nbconvert_exporter": "python",
      "pygments_lexer": "ipython3",
      "version": "3.8.5"
    },
    "colab": {
      "name": "week_1_students.ipynb",
      "provenance": [],
      "include_colab_link": true
    }
  },
  "cells": [
    {
      "cell_type": "markdown",
      "metadata": {
        "id": "view-in-github",
        "colab_type": "text"
      },
      "source": [
        "<a href=\"https://colab.research.google.com/github/VKline333/Clarusway-DS-Students-08-21-/blob/main/week_1_students.ipynb\" target=\"_parent\"><img src=\"https://colab.research.google.com/assets/colab-badge.svg\" alt=\"Open In Colab\"/></a>"
      ]
    },
    {
      "cell_type": "markdown",
      "metadata": {
        "id": "outer-patient"
      },
      "source": [
        "# **Import Numpy Library**"
      ],
      "id": "outer-patient"
    },
    {
      "cell_type": "code",
      "metadata": {
        "id": "2203fcda"
      },
      "source": [
        "import numpy as np"
      ],
      "id": "2203fcda",
      "execution_count": 1,
      "outputs": []
    },
    {
      "cell_type": "markdown",
      "metadata": {
        "id": "4a86560f"
      },
      "source": [
        "**https://www.w3resource.com/python-exercises/numpy/index-array.php**\n",
        "- Numpy Questions: 4, 8, 9, 10, 12, 14, 19"
      ],
      "id": "4a86560f"
    },
    {
      "cell_type": "markdown",
      "metadata": {
        "id": "every-dividend"
      },
      "source": [
        "**4. Write a NumPy program to create a null vector of size 10 and update sixth value to 11.**\n",
        "<br>[ 0. 0. 0. 0. 0. 0. 0. 0. 0. 0.]\n",
        "<br>Update sixth value to 11\n",
        "<br>[ 0. 0. 0. 0. 0. 0. 11. 0. 0. 0.]"
      ],
      "id": "every-dividend"
    },
    {
      "cell_type": "code",
      "metadata": {
        "colab": {
          "base_uri": "https://localhost:8080/"
        },
        "id": "seven-failing",
        "outputId": "27b69469-598a-4042-d08f-34c022c3fcc1"
      },
      "source": [
        "np.zeros(10)"
      ],
      "id": "seven-failing",
      "execution_count": 2,
      "outputs": [
        {
          "output_type": "execute_result",
          "data": {
            "text/plain": [
              "array([0., 0., 0., 0., 0., 0., 0., 0., 0., 0.])"
            ]
          },
          "metadata": {
            "tags": []
          },
          "execution_count": 2
        }
      ]
    },
    {
      "cell_type": "code",
      "metadata": {
        "colab": {
          "base_uri": "https://localhost:8080/"
        },
        "id": "HVRZ9Bx1YNzx",
        "outputId": "6903265f-c70c-4709-f197-574098b1bb58"
      },
      "source": [
        "arr=np.zeros(10)\n",
        "arr[5]=11\n",
        "print(\"Update sixth value to 11\")\n",
        "print(arr)"
      ],
      "id": "HVRZ9Bx1YNzx",
      "execution_count": 18,
      "outputs": [
        {
          "output_type": "stream",
          "text": [
            "Update sixth value to 11\n",
            "[ 0.  0.  0.  0.  0. 11.  0.  0.  0.  0.]\n"
          ],
          "name": "stdout"
        }
      ]
    },
    {
      "cell_type": "code",
      "metadata": {
        "id": "requested-lambda",
        "outputId": "7f682a65-3800-49ea-e6c5-0cf434171dad"
      },
      "source": [
        "print(\"Update sixth value to 11\")\n",
        "# ..."
      ],
      "id": "requested-lambda",
      "execution_count": null,
      "outputs": [
        {
          "output_type": "stream",
          "text": [
            "Update sixth value to 11\n",
            "[ 0.  0.  0.  0.  0.  0. 11.  0.  0.  0.]\n"
          ],
          "name": "stdout"
        }
      ]
    },
    {
      "cell_type": "markdown",
      "metadata": {
        "id": "serious-victim"
      },
      "source": [
        "**8. Write a NumPy program to create a 2d array with 1 on the border and 0 inside.**\n",
        "![image-4.png](attachment:image-4.png)"
      ],
      "id": "serious-victim"
    },
    {
      "cell_type": "code",
      "metadata": {
        "colab": {
          "base_uri": "https://localhost:8080/"
        },
        "id": "6u-CctutZD18",
        "outputId": "6c1680b6-2ba1-4358-ba66-42e08e26f8eb"
      },
      "source": [
        "arr=np.ones((5,5))\n",
        "print(\"Original array:\")\n",
        "print(arr)"
      ],
      "id": "6u-CctutZD18",
      "execution_count": 20,
      "outputs": [
        {
          "output_type": "stream",
          "text": [
            "Original array:\n",
            "[[1. 1. 1. 1. 1.]\n",
            " [1. 1. 1. 1. 1.]\n",
            " [1. 1. 1. 1. 1.]\n",
            " [1. 1. 1. 1. 1.]\n",
            " [1. 1. 1. 1. 1.]]\n"
          ],
          "name": "stdout"
        }
      ]
    },
    {
      "cell_type": "code",
      "metadata": {
        "id": "answering-paintball",
        "outputId": "8ee4c4cf-e185-4199-8c95-bf22c0f01677"
      },
      "source": [
        "print(\"Original array:\")\n",
        "\n",
        "# ..."
      ],
      "id": "answering-paintball",
      "execution_count": null,
      "outputs": [
        {
          "output_type": "stream",
          "text": [
            "Original array:\n",
            "[[1. 1. 1. 1. 1.]\n",
            " [1. 1. 1. 1. 1.]\n",
            " [1. 1. 1. 1. 1.]\n",
            " [1. 1. 1. 1. 1.]\n",
            " [1. 1. 1. 1. 1.]]\n"
          ],
          "name": "stdout"
        }
      ]
    },
    {
      "cell_type": "code",
      "metadata": {
        "colab": {
          "base_uri": "https://localhost:8080/"
        },
        "id": "_mhUG0kMZouH",
        "outputId": "127c3cda-b0b4-4a25-bd8d-daaeac9ad490"
      },
      "source": [
        "arr[1:4,1:4]=0\n",
        "print(\"1 on the border and 0 inside in the array\")\n",
        "print(arr)"
      ],
      "id": "_mhUG0kMZouH",
      "execution_count": 21,
      "outputs": [
        {
          "output_type": "stream",
          "text": [
            "1 on the border and 0 inside in the array\n",
            "[[1. 1. 1. 1. 1.]\n",
            " [1. 0. 0. 0. 1.]\n",
            " [1. 0. 0. 0. 1.]\n",
            " [1. 0. 0. 0. 1.]\n",
            " [1. 1. 1. 1. 1.]]\n"
          ],
          "name": "stdout"
        }
      ]
    },
    {
      "cell_type": "code",
      "metadata": {
        "id": "falling-filling",
        "outputId": "b8b56259-2a10-44db-d8df-146774d5c423"
      },
      "source": [
        "print(\"1 on the border and 0 inside in the array\")\n",
        "\n",
        "# ..."
      ],
      "id": "falling-filling",
      "execution_count": null,
      "outputs": [
        {
          "output_type": "stream",
          "text": [
            "1 on the border and 0 inside in the array\n",
            "[[1. 1. 1. 1. 1.]\n",
            " [1. 0. 0. 0. 1.]\n",
            " [1. 0. 0. 0. 1.]\n",
            " [1. 0. 0. 0. 1.]\n",
            " [1. 1. 1. 1. 1.]]\n"
          ],
          "name": "stdout"
        }
      ]
    },
    {
      "cell_type": "markdown",
      "metadata": {
        "id": "virgin-warehouse"
      },
      "source": [
        "**9. Write a NumPy program to add a border (filled with 0's) around an existing array.**\n",
        "![image-2.png](attachment:image-2.png)"
      ],
      "id": "virgin-warehouse"
    },
    {
      "cell_type": "code",
      "metadata": {
        "id": "psychological-trouble",
        "outputId": "d43f4abf-3cbc-4fe3-ccc0-7ea53168bb82"
      },
      "source": [
        "print(\"Original array:\")\n",
        "\n",
        "# ..."
      ],
      "id": "psychological-trouble",
      "execution_count": null,
      "outputs": [
        {
          "output_type": "stream",
          "text": [
            "Original array:\n",
            "[[1. 1. 1.]\n",
            " [1. 1. 1.]\n",
            " [1. 1. 1.]]\n"
          ],
          "name": "stdout"
        }
      ]
    },
    {
      "cell_type": "code",
      "metadata": {
        "colab": {
          "base_uri": "https://localhost:8080/"
        },
        "id": "7GFCIJZCafu8",
        "outputId": "503065e9-9210-4a9a-f423-93a76d8fef09"
      },
      "source": [
        "arr=np.ones((3,3))\n",
        "print(\"Original array:\")\n",
        "print(arr)"
      ],
      "id": "7GFCIJZCafu8",
      "execution_count": 49,
      "outputs": [
        {
          "output_type": "stream",
          "text": [
            "Original array:\n",
            "[[1. 1. 1.]\n",
            " [1. 1. 1.]\n",
            " [1. 1. 1.]]\n"
          ],
          "name": "stdout"
        }
      ]
    },
    {
      "cell_type": "code",
      "metadata": {
        "colab": {
          "base_uri": "https://localhost:8080/"
        },
        "id": "RiOX_yz1grhc",
        "outputId": "e64b5732-203f-42b1-a1f4-0dcc74098719"
      },
      "source": [
        "arr=np.pad(arr, pad_width=1, mode=\"constant\", constant_values=0)\n",
        "print(\"0 on the border and 1 inside in the array\")\n",
        "print(arr)\n"
      ],
      "id": "RiOX_yz1grhc",
      "execution_count": 51,
      "outputs": [
        {
          "output_type": "stream",
          "text": [
            "0 on the border and 1 inside in the array\n",
            "[[0. 0. 0. 0. 0. 0. 0.]\n",
            " [0. 0. 0. 0. 0. 0. 0.]\n",
            " [0. 0. 1. 1. 1. 0. 0.]\n",
            " [0. 0. 1. 1. 1. 0. 0.]\n",
            " [0. 0. 1. 1. 1. 0. 0.]\n",
            " [0. 0. 0. 0. 0. 0. 0.]\n",
            " [0. 0. 0. 0. 0. 0. 0.]]\n"
          ],
          "name": "stdout"
        }
      ]
    },
    {
      "cell_type": "code",
      "metadata": {
        "id": "scientific-academy",
        "outputId": "c0811e0e-4632-4025-abc7-1ef0b7469b15"
      },
      "source": [
        "print(\"0 on the border and 1 inside in the array\")\n",
        "\n",
        "# ..."
      ],
      "id": "scientific-academy",
      "execution_count": null,
      "outputs": [
        {
          "output_type": "stream",
          "text": [
            "0 on the border and 1 inside in the array\n",
            "[[0. 0. 0. 0. 0.]\n",
            " [0. 1. 1. 1. 0.]\n",
            " [0. 1. 1. 1. 0.]\n",
            " [0. 1. 1. 1. 0.]\n",
            " [0. 0. 0. 0. 0.]]\n"
          ],
          "name": "stdout"
        }
      ]
    },
    {
      "cell_type": "markdown",
      "metadata": {
        "id": "given-champion"
      },
      "source": [
        "**10. Write a NumPy program to create a 8x8 matrix and fill it with a checkerboard pattern.**\n",
        "![image.png](attachment:image.png)"
      ],
      "id": "given-champion"
    },
    {
      "cell_type": "code",
      "metadata": {
        "colab": {
          "base_uri": "https://localhost:8080/"
        },
        "id": "nlsSZT9YrrS1",
        "outputId": "fb479f51-8f15-4fca-d760-9777da18e707"
      },
      "source": [
        "v=np.ones((3,3))\n",
        "v"
      ],
      "id": "nlsSZT9YrrS1",
      "execution_count": 52,
      "outputs": [
        {
          "output_type": "execute_result",
          "data": {
            "text/plain": [
              "array([[1., 1., 1.],\n",
              "       [1., 1., 1.],\n",
              "       [1., 1., 1.]])"
            ]
          },
          "metadata": {
            "tags": []
          },
          "execution_count": 52
        }
      ]
    },
    {
      "cell_type": "code",
      "metadata": {
        "id": "specific-animal",
        "outputId": "39da18c6-a4e4-4f63-ff30-c959a99eac31"
      },
      "source": [
        "# ..."
      ],
      "id": "specific-animal",
      "execution_count": null,
      "outputs": [
        {
          "output_type": "execute_result",
          "data": {
            "text/plain": [
              "array([[1., 1., 1.],\n",
              "       [1., 1., 1.],\n",
              "       [1., 1., 1.]])"
            ]
          },
          "metadata": {
            "tags": []
          },
          "execution_count": 61
        }
      ]
    },
    {
      "cell_type": "code",
      "metadata": {
        "colab": {
          "base_uri": "https://localhost:8080/"
        },
        "id": "zcxamgdwr2x1",
        "outputId": "8cb11921-a5de-47c2-b189-8d85924096f3"
      },
      "source": [
        "v=np.zeros((8,8), dtype=int)\n",
        "v"
      ],
      "id": "zcxamgdwr2x1",
      "execution_count": 64,
      "outputs": [
        {
          "output_type": "execute_result",
          "data": {
            "text/plain": [
              "array([[0, 0, 0, 0, 0, 0, 0, 0],\n",
              "       [0, 0, 0, 0, 0, 0, 0, 0],\n",
              "       [0, 0, 0, 0, 0, 0, 0, 0],\n",
              "       [0, 0, 0, 0, 0, 0, 0, 0],\n",
              "       [0, 0, 0, 0, 0, 0, 0, 0],\n",
              "       [0, 0, 0, 0, 0, 0, 0, 0],\n",
              "       [0, 0, 0, 0, 0, 0, 0, 0],\n",
              "       [0, 0, 0, 0, 0, 0, 0, 0]])"
            ]
          },
          "metadata": {
            "tags": []
          },
          "execution_count": 64
        }
      ]
    },
    {
      "cell_type": "code",
      "metadata": {
        "colab": {
          "base_uri": "https://localhost:8080/"
        },
        "id": "rCf3Z6ShsGGg",
        "outputId": "35a19446-54bc-490a-bad5-6832b291a2ab"
      },
      "source": [
        "v[1::2]=1\n",
        "v[:,[1,3,5,7]]=0\n",
        "print(\"Checkerboard pattern:\")\n",
        "print(v)"
      ],
      "id": "rCf3Z6ShsGGg",
      "execution_count": 82,
      "outputs": [
        {
          "output_type": "stream",
          "text": [
            "Checkerboard pattern:\n",
            "[[0 0 0 0 0 0 0 0]\n",
            " [1 0 1 0 1 0 1 0]\n",
            " [0 0 0 0 0 0 0 0]\n",
            " [1 0 1 0 1 0 1 0]\n",
            " [0 0 0 0 0 0 0 0]\n",
            " [1 0 1 0 1 0 1 0]\n",
            " [0 0 0 0 0 0 0 0]\n",
            " [1 0 1 0 1 0 1 0]]\n"
          ],
          "name": "stdout"
        }
      ]
    },
    {
      "cell_type": "code",
      "metadata": {
        "id": "contained-nudist",
        "outputId": "55f28ba7-d877-46f5-d6db-8f9af01a0e44"
      },
      "source": [
        "print(\"Checkerboard pattern:\")\n",
        "\n",
        "\n",
        "# ..."
      ],
      "id": "contained-nudist",
      "execution_count": null,
      "outputs": [
        {
          "output_type": "stream",
          "text": [
            "Checkerboard pattern:\n"
          ],
          "name": "stdout"
        },
        {
          "output_type": "execute_result",
          "data": {
            "text/plain": [
              "array([[0, 0, 0, 0, 0, 0, 0, 0],\n",
              "       [1, 0, 1, 0, 1, 0, 1, 0],\n",
              "       [0, 0, 0, 0, 0, 0, 0, 0],\n",
              "       [1, 0, 1, 0, 1, 0, 1, 0],\n",
              "       [0, 0, 0, 0, 0, 0, 0, 0],\n",
              "       [1, 0, 1, 0, 1, 0, 1, 0],\n",
              "       [0, 0, 0, 0, 0, 0, 0, 0],\n",
              "       [1, 0, 1, 0, 1, 0, 1, 0]])"
            ]
          },
          "metadata": {
            "tags": []
          },
          "execution_count": 62
        }
      ]
    },
    {
      "cell_type": "code",
      "metadata": {
        "id": "sufficient-heart",
        "outputId": "0b49d58b-1ddc-460a-9410-00fa7d8d133f"
      },
      "source": [
        "# ..."
      ],
      "id": "sufficient-heart",
      "execution_count": null,
      "outputs": [
        {
          "output_type": "stream",
          "text": [
            "[[0 1 0 1 0 1 0 1]\n",
            " [1 0 1 0 1 0 1 0]\n",
            " [0 1 0 1 0 1 0 1]\n",
            " [1 0 1 0 1 0 1 0]\n",
            " [0 1 0 1 0 1 0 1]\n",
            " [1 0 1 0 1 0 1 0]\n",
            " [0 1 0 1 0 1 0 1]\n",
            " [1 0 1 0 1 0 1 0]]\n"
          ],
          "name": "stdout"
        }
      ]
    },
    {
      "cell_type": "markdown",
      "metadata": {
        "id": "reverse-brook"
      },
      "source": [
        "**12. Write a NumPy program to append values to the end of an array.**\n",
        "![image-2.png](attachment:image-2.png)"
      ],
      "id": "reverse-brook"
    },
    {
      "cell_type": "code",
      "metadata": {
        "id": "random-helping",
        "outputId": "e9d013b9-c2a5-4407-fd3c-fa675ccd37d7"
      },
      "source": [
        "print(\"Original array:\")\n",
        "\n",
        "# ...\n"
      ],
      "id": "random-helping",
      "execution_count": null,
      "outputs": [
        {
          "output_type": "stream",
          "text": [
            "Original array:\n",
            "[10, 20, 30]\n"
          ],
          "name": "stdout"
        }
      ]
    },
    {
      "cell_type": "code",
      "metadata": {
        "colab": {
          "base_uri": "https://localhost:8080/"
        },
        "id": "19WW_idIyGnx",
        "outputId": "6a121233-1600-4a5c-b87e-bf266d3e187e"
      },
      "source": [
        "a=np.arange(10,31,10)\n",
        "print(\"Original array:\")\n",
        "print(a)"
      ],
      "id": "19WW_idIyGnx",
      "execution_count": 94,
      "outputs": [
        {
          "output_type": "stream",
          "text": [
            "Original array:\n",
            "[10 20 30]\n"
          ],
          "name": "stdout"
        }
      ]
    },
    {
      "cell_type": "code",
      "metadata": {
        "id": "driven-concord",
        "outputId": "bb44ff2f-dd8b-418b-da7d-d6deff901600"
      },
      "source": [
        "print(\"After append values to the end of the array:\")\n",
        "\n",
        "# ...\n"
      ],
      "id": "driven-concord",
      "execution_count": null,
      "outputs": [
        {
          "output_type": "stream",
          "text": [
            "After append values to the end of the array:\n",
            "[10 20 30 40 50 60 70 80 90]\n"
          ],
          "name": "stdout"
        }
      ]
    },
    {
      "cell_type": "code",
      "metadata": {
        "colab": {
          "base_uri": "https://localhost:8080/"
        },
        "id": "6OaFLmNgyS1o",
        "outputId": "dd621fc8-e830-4b76-8e46-04a3124231e6"
      },
      "source": [
        "b=np.arange(40,91,10)\n",
        "print(b)\n",
        "np.concatenate([a,b])"
      ],
      "id": "6OaFLmNgyS1o",
      "execution_count": 97,
      "outputs": [
        {
          "output_type": "stream",
          "text": [
            "[40 50 60 70 80 90]\n"
          ],
          "name": "stdout"
        },
        {
          "output_type": "execute_result",
          "data": {
            "text/plain": [
              "array([10, 20, 30, 40, 50, 60, 70, 80, 90])"
            ]
          },
          "metadata": {
            "tags": []
          },
          "execution_count": 97
        }
      ]
    },
    {
      "cell_type": "code",
      "metadata": {
        "colab": {
          "base_uri": "https://localhost:8080/"
        },
        "id": "oW16tJvYySu8",
        "outputId": "1449ae88-9d32-486a-bac9-4bbdb0d1d591"
      },
      "source": [
        "print(\"After append values to the end of the array:\")\n",
        "print(np.concatenate([a,b]))"
      ],
      "id": "oW16tJvYySu8",
      "execution_count": 95,
      "outputs": [
        {
          "output_type": "stream",
          "text": [
            "After append values to the end of the array:\n",
            "[10 20 30 40 50 60 70 80 90]\n"
          ],
          "name": "stdout"
        }
      ]
    },
    {
      "cell_type": "markdown",
      "metadata": {
        "id": "y1CPQQGD0mNx"
      },
      "source": [
        "  Another Solution"
      ],
      "id": "y1CPQQGD0mNx"
    },
    {
      "cell_type": "code",
      "metadata": {
        "colab": {
          "base_uri": "https://localhost:8080/"
        },
        "id": "XqhmfzWqzw2z",
        "outputId": "aef65090-00df-4d89-bd09-d59b07ebcb23"
      },
      "source": [
        "arr = np.append(a, [[40, 50, 60], [70, 80, 90]])\n",
        "arr"
      ],
      "id": "XqhmfzWqzw2z",
      "execution_count": 98,
      "outputs": [
        {
          "output_type": "execute_result",
          "data": {
            "text/plain": [
              "array([10, 20, 30, 40, 50, 60, 70, 80, 90])"
            ]
          },
          "metadata": {
            "tags": []
          },
          "execution_count": 98
        }
      ]
    },
    {
      "cell_type": "markdown",
      "metadata": {
        "id": "compact-married"
      },
      "source": [
        "**14. Write a NumPy program to convert the values of Centigrade degrees into Fahrenheit degrees. Centigrade values are stored into a NumPy array.**\n",
        "![image.png](attachment:image.png)"
      ],
      "id": "compact-married"
    },
    {
      "cell_type": "code",
      "metadata": {
        "id": "competitive-factor",
        "outputId": "35a03249-7aa9-4833-aa06-26fbb73eb516"
      },
      "source": [
        "print(\"Values in Fahrenheit degrees:\")\n",
        "\n",
        "# ...\n"
      ],
      "id": "competitive-factor",
      "execution_count": null,
      "outputs": [
        {
          "output_type": "stream",
          "text": [
            "Values in Fahrenheit degrees:\n",
            "[ 0.   12.   45.21 34.   99.91]\n"
          ],
          "name": "stdout"
        }
      ]
    },
    {
      "cell_type": "code",
      "metadata": {
        "colab": {
          "base_uri": "https://localhost:8080/"
        },
        "id": "NMWuhTO7zBcr",
        "outputId": "993169fb-d207-4e62-8ae4-dfb72d7e0e18"
      },
      "source": [
        "F=[0,12,45.21,34,99.91]         # a list for fahrenheit degrees\n",
        "F=np.array(F)\n",
        "print(\"Values in Fahrenheit degrees:\")\n",
        "print(F)"
      ],
      "id": "NMWuhTO7zBcr",
      "execution_count": 102,
      "outputs": [
        {
          "output_type": "stream",
          "text": [
            "Values in Fahrenheit degrees:\n",
            "[ 0.   12.   45.21 34.   99.91]\n"
          ],
          "name": "stdout"
        }
      ]
    },
    {
      "cell_type": "code",
      "metadata": {
        "id": "educated-finger",
        "outputId": "331404ae-e5b5-4c45-9547-21ba42bda6db"
      },
      "source": [
        "print(\"Values in  Centigrade degrees:\") \n",
        "\n",
        "# ...\n"
      ],
      "id": "educated-finger",
      "execution_count": null,
      "outputs": [
        {
          "output_type": "stream",
          "text": [
            "Values in  Centigrade degrees:\n",
            "[-17.77777778 -11.11111111   7.33888889   1.11111111  37.72777778]\n"
          ],
          "name": "stdout"
        }
      ]
    },
    {
      "cell_type": "code",
      "metadata": {
        "colab": {
          "base_uri": "https://localhost:8080/"
        },
        "id": "btO96rOl1q9B",
        "outputId": "c86a14d4-1abf-49d1-e3d6-66688f199f98"
      },
      "source": [
        "# Centigrade degrees=(5*(Fahrenheit degrees-32))/9\n",
        "C=(5*(F-32)/9)\n",
        "print(\"Values in  Centigrade degrees:\")\n",
        "print(C)"
      ],
      "id": "btO96rOl1q9B",
      "execution_count": 105,
      "outputs": [
        {
          "output_type": "stream",
          "text": [
            "Values in  Centigrade degrees:\n",
            "[-17.77777778 -11.11111111   7.33888889   1.11111111  37.72777778]\n"
          ],
          "name": "stdout"
        }
      ]
    },
    {
      "cell_type": "markdown",
      "metadata": {
        "id": "derived-practitioner"
      },
      "source": [
        "**19. Write a NumPy program to get the unique elements of an array.**\n",
        "![image.png](attachment:image.png)"
      ],
      "id": "derived-practitioner"
    },
    {
      "cell_type": "code",
      "metadata": {
        "id": "atlantic-sitting",
        "outputId": "8866884e-b86c-4304-9fa6-2c133e82e4e3"
      },
      "source": [
        "print(\"Original array:\")\n",
        "# ..."
      ],
      "id": "atlantic-sitting",
      "execution_count": null,
      "outputs": [
        {
          "output_type": "stream",
          "text": [
            "Original array:\n",
            "[10 10 20 20 30 30]\n"
          ],
          "name": "stdout"
        }
      ]
    },
    {
      "cell_type": "code",
      "metadata": {
        "colab": {
          "base_uri": "https://localhost:8080/"
        },
        "id": "_qGJLl-h4FaV",
        "outputId": "a41cc993-0609-4ffa-9320-f99f1290cc40"
      },
      "source": [
        "arr=np.array([10,10,20,20,30,30])\n",
        "print(\"Original array:\")\n",
        "print(arr)"
      ],
      "id": "_qGJLl-h4FaV",
      "execution_count": 107,
      "outputs": [
        {
          "output_type": "stream",
          "text": [
            "Original array:\n",
            "[10 10 20 20 30 30]\n"
          ],
          "name": "stdout"
        }
      ]
    },
    {
      "cell_type": "code",
      "metadata": {
        "id": "physical-garlic",
        "outputId": "e9c23e1f-f6f1-4850-e467-dc9ab5e13f1e"
      },
      "source": [
        "print(\"Unique elements of the above array:\")\n",
        "\n",
        "# ...\n"
      ],
      "id": "physical-garlic",
      "execution_count": null,
      "outputs": [
        {
          "output_type": "stream",
          "text": [
            "Unique elements of the above array:\n",
            "[10 20 30]\n"
          ],
          "name": "stdout"
        }
      ]
    },
    {
      "cell_type": "code",
      "metadata": {
        "colab": {
          "base_uri": "https://localhost:8080/"
        },
        "id": "HeseBD3r4W79",
        "outputId": "58402d05-a328-4d7a-ee8a-6bc9d48a82dc"
      },
      "source": [
        "print(\"Unique elements of the above array:\")\n",
        "print(np.unique(arr))"
      ],
      "id": "HeseBD3r4W79",
      "execution_count": 109,
      "outputs": [
        {
          "output_type": "stream",
          "text": [
            "Unique elements of the above array:\n",
            "[10 20 30]\n"
          ],
          "name": "stdout"
        }
      ]
    },
    {
      "cell_type": "code",
      "metadata": {
        "id": "scheduled-consequence",
        "outputId": "ed634d8c-e30d-48c0-be4a-b7f5a55e4908"
      },
      "source": [
        "print(\"Original array:\")\n",
        "\n",
        "# ...\n"
      ],
      "id": "scheduled-consequence",
      "execution_count": null,
      "outputs": [
        {
          "output_type": "stream",
          "text": [
            "Original array:\n",
            "[[1 1]\n",
            " [2 3]]\n"
          ],
          "name": "stdout"
        }
      ]
    },
    {
      "cell_type": "code",
      "metadata": {
        "colab": {
          "base_uri": "https://localhost:8080/"
        },
        "id": "jAkg4eut477C",
        "outputId": "d2ae9869-a109-4ad2-de80-3a1d9c95b8b8"
      },
      "source": [
        "arr=np.array(([1,1],[2,3]))\n",
        "print(\"Original array:\")\n",
        "print(arr)"
      ],
      "id": "jAkg4eut477C",
      "execution_count": 113,
      "outputs": [
        {
          "output_type": "stream",
          "text": [
            "Original array:\n",
            "[[1 1]\n",
            " [2 3]]\n"
          ],
          "name": "stdout"
        }
      ]
    },
    {
      "cell_type": "code",
      "metadata": {
        "id": "widespread-surveillance",
        "outputId": "2b77ff0f-72a5-4a3a-97ec-4d7be802c3c4"
      },
      "source": [
        "print(\"Unique elements of the above array:\")\n",
        "\n",
        "# ...\n"
      ],
      "id": "widespread-surveillance",
      "execution_count": null,
      "outputs": [
        {
          "output_type": "stream",
          "text": [
            "Unique elements of the above array:\n",
            "[1 2 3]\n"
          ],
          "name": "stdout"
        }
      ]
    },
    {
      "cell_type": "code",
      "metadata": {
        "colab": {
          "base_uri": "https://localhost:8080/"
        },
        "id": "XCYn7FJG6pY1",
        "outputId": "eea617b0-e7b6-4fc5-9038-6c5350c1af86"
      },
      "source": [
        "print(\"Unique elements of the above array:\")\n",
        "print(np.unique(arr))"
      ],
      "id": "XCYn7FJG6pY1",
      "execution_count": 114,
      "outputs": [
        {
          "output_type": "stream",
          "text": [
            "Unique elements of the above array:\n",
            "[1 2 3]\n"
          ],
          "name": "stdout"
        }
      ]
    },
    {
      "cell_type": "markdown",
      "metadata": {
        "id": "downtown-sauce"
      },
      "source": [
        "# **import Pandas Library**"
      ],
      "id": "downtown-sauce"
    },
    {
      "cell_type": "code",
      "metadata": {
        "id": "infectious-spotlight"
      },
      "source": [
        "import pandas as pd"
      ],
      "id": "infectious-spotlight",
      "execution_count": 134,
      "outputs": []
    },
    {
      "cell_type": "markdown",
      "metadata": {
        "id": "3790dc46"
      },
      "source": [
        "**https://www.w3resource.com/python-exercises/pandas/index-data-series.php**\n",
        "- Pandas Questions: 2, 3, 5, 6, 13"
      ],
      "id": "3790dc46"
    },
    {
      "cell_type": "markdown",
      "metadata": {
        "id": "hollow-enhancement"
      },
      "source": [
        "**2. Write a Pandas program to convert a Pandas module Series to Python list and it's type.**"
      ],
      "id": "hollow-enhancement"
    },
    {
      "cell_type": "code",
      "metadata": {
        "id": "c7cacd5e"
      },
      "source": [
        "list_1 = [2, 4, 6, 8, 10]"
      ],
      "id": "c7cacd5e",
      "execution_count": 135,
      "outputs": []
    },
    {
      "cell_type": "code",
      "metadata": {
        "colab": {
          "base_uri": "https://localhost:8080/"
        },
        "id": "exceptional-vienna",
        "outputId": "8df24fec-6eca-47ea-faee-017fa31733fa"
      },
      "source": [
        "# Convert the Python list to a Pandas Series \n",
        "print(\"Pandas Series and type\")\n",
        "\n",
        "ser=pd.Series(list_1)\n",
        "print(ser)\n",
        "type(ser)\n"
      ],
      "id": "exceptional-vienna",
      "execution_count": 141,
      "outputs": [
        {
          "output_type": "stream",
          "text": [
            "Pandas Series and type\n",
            "0     2\n",
            "1     4\n",
            "2     6\n",
            "3     8\n",
            "4    10\n",
            "dtype: int64\n"
          ],
          "name": "stdout"
        },
        {
          "output_type": "execute_result",
          "data": {
            "text/plain": [
              "pandas.core.series.Series"
            ]
          },
          "metadata": {
            "tags": []
          },
          "execution_count": 141
        }
      ]
    },
    {
      "cell_type": "code",
      "metadata": {
        "colab": {
          "base_uri": "https://localhost:8080/"
        },
        "id": "neither-production",
        "outputId": "9a44a306-f308-49f4-8d1e-c8a27094a86e"
      },
      "source": [
        "# Convert the Pandas Series to Python list\n",
        "\n",
        "list_1=ser.to_list()\n",
        "list_1\n"
      ],
      "id": "neither-production",
      "execution_count": 142,
      "outputs": [
        {
          "output_type": "execute_result",
          "data": {
            "text/plain": [
              "[2, 4, 6, 8, 10]"
            ]
          },
          "metadata": {
            "tags": []
          },
          "execution_count": 142
        }
      ]
    },
    {
      "cell_type": "markdown",
      "metadata": {
        "id": "confused-parade"
      },
      "source": [
        "**3. Write a Pandas program to add, subtract, multiple and divide two Pandas Series.**"
      ],
      "id": "confused-parade"
    },
    {
      "cell_type": "code",
      "metadata": {
        "id": "1aad2a90"
      },
      "source": [
        "list1 = [2, 4, 6, 8, 10]\n",
        "list2 = [1, 3, 5, 7, 9]"
      ],
      "id": "1aad2a90",
      "execution_count": 119,
      "outputs": []
    },
    {
      "cell_type": "code",
      "metadata": {
        "colab": {
          "base_uri": "https://localhost:8080/"
        },
        "id": "4ed60289",
        "outputId": "8712d7e8-6f93-4162-f429-5e041a468afb"
      },
      "source": [
        "# Create two Pandas series with these lists\n",
        "\n",
        "ds1=pd.Series(list1)\n",
        "ds2=pd.Series(list2)\n",
        "ds1"
      ],
      "id": "4ed60289",
      "execution_count": 143,
      "outputs": [
        {
          "output_type": "execute_result",
          "data": {
            "text/plain": [
              "0     2\n",
              "1     4\n",
              "2     6\n",
              "3     8\n",
              "4    10\n",
              "dtype: int64"
            ]
          },
          "metadata": {
            "tags": []
          },
          "execution_count": 143
        }
      ]
    },
    {
      "cell_type": "code",
      "metadata": {
        "colab": {
          "base_uri": "https://localhost:8080/"
        },
        "id": "cwtd4T4nHbzi",
        "outputId": "bada7f99-f1bc-43fc-a72f-b1b1fc9a5de7"
      },
      "source": [
        "ds2"
      ],
      "id": "cwtd4T4nHbzi",
      "execution_count": 144,
      "outputs": [
        {
          "output_type": "execute_result",
          "data": {
            "text/plain": [
              "0    1\n",
              "1    3\n",
              "2    5\n",
              "3    7\n",
              "4    9\n",
              "dtype: int64"
            ]
          },
          "metadata": {
            "tags": []
          },
          "execution_count": 144
        }
      ]
    },
    {
      "cell_type": "code",
      "metadata": {
        "colab": {
          "base_uri": "https://localhost:8080/"
        },
        "id": "annual-rachel",
        "outputId": "5df40814-f235-4b9d-aa15-3374f54be1a0"
      },
      "source": [
        "print(\"Add two Series:\")\n",
        "\n",
        "ds1+ds2\n"
      ],
      "id": "annual-rachel",
      "execution_count": 145,
      "outputs": [
        {
          "output_type": "stream",
          "text": [
            "Add two Series:\n"
          ],
          "name": "stdout"
        },
        {
          "output_type": "execute_result",
          "data": {
            "text/plain": [
              "0     3\n",
              "1     7\n",
              "2    11\n",
              "3    15\n",
              "4    19\n",
              "dtype: int64"
            ]
          },
          "metadata": {
            "tags": []
          },
          "execution_count": 145
        }
      ]
    },
    {
      "cell_type": "code",
      "metadata": {
        "colab": {
          "base_uri": "https://localhost:8080/"
        },
        "id": "breathing-documentary",
        "outputId": "0f5f946a-ad4e-46f0-fc65-9dcb24d1807e"
      },
      "source": [
        "print(\"Subtract two Series:\")\n",
        "\n",
        "ds1-ds2\n"
      ],
      "id": "breathing-documentary",
      "execution_count": 146,
      "outputs": [
        {
          "output_type": "stream",
          "text": [
            "Subtract two Series:\n"
          ],
          "name": "stdout"
        },
        {
          "output_type": "execute_result",
          "data": {
            "text/plain": [
              "0    1\n",
              "1    1\n",
              "2    1\n",
              "3    1\n",
              "4    1\n",
              "dtype: int64"
            ]
          },
          "metadata": {
            "tags": []
          },
          "execution_count": 146
        }
      ]
    },
    {
      "cell_type": "code",
      "metadata": {
        "colab": {
          "base_uri": "https://localhost:8080/"
        },
        "id": "personal-newsletter",
        "outputId": "04b20621-cdb7-40da-9c24-7ef993a4fdc6"
      },
      "source": [
        "print(\"Multiply two Series:\")\n",
        "\n",
        "ds1*ds2\n"
      ],
      "id": "personal-newsletter",
      "execution_count": 147,
      "outputs": [
        {
          "output_type": "stream",
          "text": [
            "Multiply two Series:\n"
          ],
          "name": "stdout"
        },
        {
          "output_type": "execute_result",
          "data": {
            "text/plain": [
              "0     2\n",
              "1    12\n",
              "2    30\n",
              "3    56\n",
              "4    90\n",
              "dtype: int64"
            ]
          },
          "metadata": {
            "tags": []
          },
          "execution_count": 147
        }
      ]
    },
    {
      "cell_type": "code",
      "metadata": {
        "colab": {
          "base_uri": "https://localhost:8080/"
        },
        "id": "sporting-theorem",
        "outputId": "fba6e317-a01e-4bd9-adb3-44162eabea5f"
      },
      "source": [
        "print(\"Divide Series1 by Series2:\")\n",
        "\n",
        "ds1/ds2\n"
      ],
      "id": "sporting-theorem",
      "execution_count": 148,
      "outputs": [
        {
          "output_type": "stream",
          "text": [
            "Divide Series1 by Series2:\n"
          ],
          "name": "stdout"
        },
        {
          "output_type": "execute_result",
          "data": {
            "text/plain": [
              "0    2.000000\n",
              "1    1.333333\n",
              "2    1.200000\n",
              "3    1.142857\n",
              "4    1.111111\n",
              "dtype: float64"
            ]
          },
          "metadata": {
            "tags": []
          },
          "execution_count": 148
        }
      ]
    },
    {
      "cell_type": "markdown",
      "metadata": {
        "id": "competitive-fifteen"
      },
      "source": [
        "**5. Write a Pandas program to convert a dictionary to a Pandas series.**"
      ],
      "id": "competitive-fifteen"
    },
    {
      "cell_type": "code",
      "metadata": {
        "id": "0cd18195"
      },
      "source": [
        "keys=['a','b','c','d','e']\n",
        "values = [100, 200, 300, 400, 800]"
      ],
      "id": "0cd18195",
      "execution_count": 125,
      "outputs": []
    },
    {
      "cell_type": "code",
      "metadata": {
        "colab": {
          "base_uri": "https://localhost:8080/"
        },
        "id": "latin-torture",
        "outputId": "9196f506-e414-41e0-d9e6-16823d256ef6"
      },
      "source": [
        "# Create a dictionary from keys and values\n",
        "print(\"Original dictionary:\")\n",
        "\n",
        "ser=pd.Series(values,keys)\n",
        "ser\n"
      ],
      "id": "latin-torture",
      "execution_count": 149,
      "outputs": [
        {
          "output_type": "stream",
          "text": [
            "Original dictionary:\n"
          ],
          "name": "stdout"
        },
        {
          "output_type": "execute_result",
          "data": {
            "text/plain": [
              "a    100\n",
              "b    200\n",
              "c    300\n",
              "d    400\n",
              "e    800\n",
              "dtype: int64"
            ]
          },
          "metadata": {
            "tags": []
          },
          "execution_count": 149
        }
      ]
    },
    {
      "cell_type": "code",
      "metadata": {
        "colab": {
          "base_uri": "https://localhost:8080/"
        },
        "id": "rolled-transcript",
        "outputId": "4965cbec-9479-44e5-eed8-2f01dd319584"
      },
      "source": [
        "# Convert the dictionary to a Pandas series\n",
        "print(\"Converted series:\")\n",
        "\n",
        "ser.to_dict()\n"
      ],
      "id": "rolled-transcript",
      "execution_count": 151,
      "outputs": [
        {
          "output_type": "stream",
          "text": [
            "Converted series:\n"
          ],
          "name": "stdout"
        },
        {
          "output_type": "execute_result",
          "data": {
            "text/plain": [
              "{'a': 100, 'b': 200, 'c': 300, 'd': 400, 'e': 800}"
            ]
          },
          "metadata": {
            "tags": []
          },
          "execution_count": 151
        }
      ]
    },
    {
      "cell_type": "markdown",
      "metadata": {
        "id": "olive-aircraft"
      },
      "source": [
        "**6. Write a Pandas program to convert a NumPy array to a Pandas series.**"
      ],
      "id": "olive-aircraft"
    },
    {
      "cell_type": "code",
      "metadata": {
        "colab": {
          "base_uri": "https://localhost:8080/"
        },
        "id": "wired-contact",
        "outputId": "93967210-ebc0-4533-fde4-f7af3b202cf8"
      },
      "source": [
        "# Original Data : [10, 20, 30, 40, 50]\n",
        "# Create a numpy array with this data\n",
        "print(\"NumPy array:\")\n",
        "\n",
        "arr=np.array([10,20,30,40,50])\n",
        "arr"
      ],
      "id": "wired-contact",
      "execution_count": 153,
      "outputs": [
        {
          "output_type": "stream",
          "text": [
            "NumPy array:\n"
          ],
          "name": "stdout"
        },
        {
          "output_type": "execute_result",
          "data": {
            "text/plain": [
              "array([10, 20, 30, 40, 50])"
            ]
          },
          "metadata": {
            "tags": []
          },
          "execution_count": 153
        }
      ]
    },
    {
      "cell_type": "code",
      "metadata": {
        "colab": {
          "base_uri": "https://localhost:8080/"
        },
        "id": "returning-outline",
        "outputId": "43065d34-ca0d-4ccf-d168-20aa1b916ea8"
      },
      "source": [
        "# Convert a NumPy array to this Pandas series.\n",
        "print(\"Converted Pandas series:\")\n",
        "\n",
        "ds=pd.Series(arr)\n",
        "ds\n"
      ],
      "id": "returning-outline",
      "execution_count": 155,
      "outputs": [
        {
          "output_type": "stream",
          "text": [
            "Converted Pandas series:\n"
          ],
          "name": "stdout"
        },
        {
          "output_type": "execute_result",
          "data": {
            "text/plain": [
              "0    10\n",
              "1    20\n",
              "2    30\n",
              "3    40\n",
              "4    50\n",
              "dtype: int64"
            ]
          },
          "metadata": {
            "tags": []
          },
          "execution_count": 155
        }
      ]
    },
    {
      "cell_type": "markdown",
      "metadata": {
        "id": "charming-denial"
      },
      "source": [
        "**12. Write a Pandas program to add some data to an existing Series.**|"
      ],
      "id": "charming-denial"
    },
    {
      "cell_type": "code",
      "metadata": {
        "colab": {
          "base_uri": "https://localhost:8080/"
        },
        "id": "painful-liquid",
        "outputId": "68f986bf-5346-4aa8-ba36-f132e5807d5e"
      },
      "source": [
        "# Original Data : ['100', '200', 'python', '300.12', '400']\n",
        "# Built a pandas Series with this data\n",
        "print(\"Original Data Series:\")\n",
        "Original_Data = ['100', '200', 'python', '300.12', '400']\n",
        "ser=pd.Series(Original_Data)\n",
        "ser"
      ],
      "id": "painful-liquid",
      "execution_count": 156,
      "outputs": [
        {
          "output_type": "stream",
          "text": [
            "Original Data Series:\n"
          ],
          "name": "stdout"
        },
        {
          "output_type": "execute_result",
          "data": {
            "text/plain": [
              "0       100\n",
              "1       200\n",
              "2    python\n",
              "3    300.12\n",
              "4       400\n",
              "dtype: object"
            ]
          },
          "metadata": {
            "tags": []
          },
          "execution_count": 156
        }
      ]
    },
    {
      "cell_type": "code",
      "metadata": {
        "colab": {
          "base_uri": "https://localhost:8080/"
        },
        "id": "hindu-paste",
        "outputId": "45507d75-2611-4391-934e-b2a1d013dae7"
      },
      "source": [
        "# Add ['500', 'php'] to the original Data Series\n",
        "print(\"\\nData Series after adding some data:\")\n",
        "\n",
        "ser.append(pd.Series([\"500\", \"php\"]))\n"
      ],
      "id": "hindu-paste",
      "execution_count": 178,
      "outputs": [
        {
          "output_type": "stream",
          "text": [
            "\n",
            "Data Series after adding some data:\n"
          ],
          "name": "stdout"
        },
        {
          "output_type": "execute_result",
          "data": {
            "text/plain": [
              "0       100\n",
              "1       200\n",
              "2    python\n",
              "3    300.12\n",
              "4       400\n",
              "0       500\n",
              "1       php\n",
              "dtype: object"
            ]
          },
          "metadata": {
            "tags": []
          },
          "execution_count": 178
        }
      ]
    },
    {
      "cell_type": "markdown",
      "metadata": {
        "id": "5bde9096"
      },
      "source": [
        "**13. Write a Pandas program to create a subset of a given series based on value and condition.**"
      ],
      "id": "5bde9096"
    },
    {
      "cell_type": "code",
      "metadata": {
        "colab": {
          "base_uri": "https://localhost:8080/"
        },
        "id": "3e8a7f12",
        "outputId": "81946628-622b-4b5a-91dd-0a54423db112"
      },
      "source": [
        "# Original Data : [0,1,2,3,4,5,6,7,8,9,10]\n",
        "# Built a pandas Series with this data\n",
        "print(\"Original Data Series:\")\n",
        "dser=pd.Series([0,1,2,3,4,5,6,7,8,9,10])\n",
        "dser"
      ],
      "id": "3e8a7f12",
      "execution_count": 181,
      "outputs": [
        {
          "output_type": "stream",
          "text": [
            "Original Data Series:\n"
          ],
          "name": "stdout"
        },
        {
          "output_type": "execute_result",
          "data": {
            "text/plain": [
              "0      0\n",
              "1      1\n",
              "2      2\n",
              "3      3\n",
              "4      4\n",
              "5      5\n",
              "6      6\n",
              "7      7\n",
              "8      8\n",
              "9      9\n",
              "10    10\n",
              "dtype: int64"
            ]
          },
          "metadata": {
            "tags": []
          },
          "execution_count": 181
        }
      ]
    },
    {
      "cell_type": "code",
      "metadata": {
        "colab": {
          "base_uri": "https://localhost:8080/"
        },
        "id": "a4dcdebf",
        "outputId": "68ea0bed-2168-406a-9120-4de9ea6fdaf9"
      },
      "source": [
        "# Create a new series with data with a value less than 6\n",
        "print(\"\\nSubset of the above Data Series:\")\n",
        "\n",
        "dser[dser<6]\n"
      ],
      "id": "a4dcdebf",
      "execution_count": 185,
      "outputs": [
        {
          "output_type": "stream",
          "text": [
            "\n",
            "Subset of the above Data Series:\n"
          ],
          "name": "stdout"
        },
        {
          "output_type": "execute_result",
          "data": {
            "text/plain": [
              "0    0\n",
              "1    1\n",
              "2    2\n",
              "3    3\n",
              "4    4\n",
              "5    5\n",
              "dtype: int64"
            ]
          },
          "metadata": {
            "tags": []
          },
          "execution_count": 185
        }
      ]
    },
    {
      "cell_type": "code",
      "metadata": {
        "id": "lI3nK0pcbEE2"
      },
      "source": [
        ""
      ],
      "id": "lI3nK0pcbEE2",
      "execution_count": null,
      "outputs": []
    }
  ]
}